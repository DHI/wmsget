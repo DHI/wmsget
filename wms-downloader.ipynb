{
 "cells": [
  {
   "cell_type": "markdown",
   "id": "1ece6f5c-783f-4671-a03f-8e895082349e",
   "metadata": {},
   "source": [
    "# Download an image\n",
    "\n",
    "The settings below are an example of how to download a spring orthophoto from the Danish orthophoto WMS service for the tile *1km_6151_536*. \n",
    "The layer name can be changed to a different band composition by specifying `bands='cir'` in `wmsget.get_layer_name` or another year with `year=2023`. \n",
    "The geometry can either be defined by constructing a polygon with `shapely.Polygon()`, importing a shape, or using the predefined grid system from `wmsget.query_grid`\n",
    "\n",
    "The token needs to be generated for your own user through [Dataforsyningen's website](https://dataforsyningen.dk/)."
   ]
  },
  {
   "cell_type": "code",
   "execution_count": null,
   "id": "fcb1883e-fc08-4f40-afb1-0fd67cfef6ed",
   "metadata": {
    "scrolled": true
   },
   "outputs": [],
   "source": [
    "import wmsget\n",
    "\n",
    "res = 0.125\n",
    "crs = 'EPSG:25832'\n",
    "layer = wmsget.get_layer_name('dk', 2024)\n",
    "geom = wmsget.query_grid('dk1', '1km_6151_536')\n",
    "token = '' # paste your token here\n",
    "url = 'https://api.dataforsyningen.dk/orto_foraar_DAF?token='+token\n",
    "out_path = r'test.tif'"
   ]
  },
  {
   "cell_type": "code",
   "execution_count": null,
   "id": "a3ea23a3-4a4c-45b0-9456-08e34ce219a5",
   "metadata": {},
   "outputs": [],
   "source": [
    "wmsget.get_image(geom, url, layer, crs, res, out_path)"
   ]
  }
 ],
 "metadata": {
  "kernelspec": {
   "display_name": "Python 3 (ipykernel)",
   "language": "python",
   "name": "python3"
  },
  "language_info": {
   "codemirror_mode": {
    "name": "ipython",
    "version": 3
   },
   "file_extension": ".py",
   "mimetype": "text/x-python",
   "name": "python",
   "nbconvert_exporter": "python",
   "pygments_lexer": "ipython3",
   "version": "3.13.1"
  }
 },
 "nbformat": 4,
 "nbformat_minor": 5
}
